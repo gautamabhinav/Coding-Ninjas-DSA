{
 "cells": [
  {
   "cell_type": "code",
   "execution_count": 16,
   "metadata": {},
   "outputs": [],
   "source": [
    "import tensorflow as tf\n",
    "from tensorflow.examples.tutorials.mnist import input_data"
   ]
  },
  {
   "cell_type": "code",
   "execution_count": 17,
   "metadata": {},
   "outputs": [
    {
     "name": "stdout",
     "output_type": "stream",
     "text": [
      "Extracting MNIST_data/train-images-idx3-ubyte.gz\n",
      "Extracting MNIST_data/train-labels-idx1-ubyte.gz\n",
      "Extracting MNIST_data/t10k-images-idx3-ubyte.gz\n",
      "Extracting MNIST_data/t10k-labels-idx1-ubyte.gz\n"
     ]
    },
    {
     "data": {
      "text/plain": [
       "Datasets(train=<tensorflow.contrib.learn.python.learn.datasets.mnist.DataSet object at 0x000001FFD74184E0>, validation=<tensorflow.contrib.learn.python.learn.datasets.mnist.DataSet object at 0x000001FFDDDDB198>, test=<tensorflow.contrib.learn.python.learn.datasets.mnist.DataSet object at 0x000001FFDDDDB0B8>)"
      ]
     },
     "execution_count": 17,
     "metadata": {},
     "output_type": "execute_result"
    }
   ],
   "source": [
    "mnist=input_data.read_data_sets('MNIST_data/', one_hot=True)\n",
    "mnist"
   ]
  },
  {
   "cell_type": "code",
   "execution_count": 18,
   "metadata": {},
   "outputs": [
    {
     "data": {
      "text/plain": [
       "(55000, 784)"
      ]
     },
     "execution_count": 18,
     "metadata": {},
     "output_type": "execute_result"
    }
   ],
   "source": [
    "mnist.train.images.shape"
   ]
  },
  {
   "cell_type": "code",
   "execution_count": 19,
   "metadata": {},
   "outputs": [
    {
     "data": {
      "text/plain": [
       "(10000, 784)"
      ]
     },
     "execution_count": 19,
     "metadata": {},
     "output_type": "execute_result"
    }
   ],
   "source": [
    "mnist.test.images.shape"
   ]
  },
  {
   "cell_type": "code",
   "execution_count": 20,
   "metadata": {},
   "outputs": [
    {
     "data": {
      "text/plain": [
       "(5000, 784)"
      ]
     },
     "execution_count": 20,
     "metadata": {},
     "output_type": "execute_result"
    }
   ],
   "source": [
    "mnist.validation.images.shape"
   ]
  },
  {
   "cell_type": "code",
   "execution_count": 21,
   "metadata": {},
   "outputs": [
    {
     "data": {
      "text/plain": [
       "(55000, 10)"
      ]
     },
     "execution_count": 21,
     "metadata": {},
     "output_type": "execute_result"
    }
   ],
   "source": [
    "mnist.train.labels.shape"
   ]
  },
  {
   "cell_type": "code",
   "execution_count": 22,
   "metadata": {},
   "outputs": [
    {
     "data": {
      "image/png": "[encoded data removed]",
      "text/plain": [
       "<Figure size 360x360 with 16 Axes>"
      ]
     },
     "metadata": {
      "needs_background": "light"
     },
     "output_type": "display_data"
    }
   ],
   "source": [
    "import numpy as np\n",
    "import matplotlib.pyplot as plt\n",
    "fig=plt.figure(figsize=(5, 5))\n",
    "for i in range(16):\n",
    "    ax=fig.add_subplot(4, 4, i+1)\n",
    "    ax.imshow(mnist.train.images[i].reshape((28, 28)))\n",
    "plt.show()"
   ]
  },
  {
   "cell_type": "code",
   "execution_count": 23,
   "metadata": {},
   "outputs": [],
   "source": [
    "n_inputs=784\n",
    "n_hidden1=1000\n",
    "n_hidden2=1000\n",
    "n_hidden3=1000\n",
    "n_hidden4=1000\n",
    "n_classes=10\n",
    "weights={\"h1\":tf.Variable(tf.random_normal((n_inputs, n_hidden1))),\n",
    "        \"h2\":tf.Variable(tf.random_normal((n_hidden1, n_hidden2))),\n",
    "        \"h3\":tf.Variable(tf.random_normal((n_hidden2, n_hidden3))),\n",
    "        \"h4\":tf.Variable(tf.random_normal((n_hidden3, n_hidden4))),\n",
    "        \"output\":tf.Variable(tf.random_normal((n_hidden4, n_classes)))}\n",
    "biases={\"h1\":tf.Variable(tf.random_normal((n_hidden1, ))),\n",
    "       \"h2\":tf.Variable(tf.random_normal((n_hidden2, ))),\n",
    "        \"h3\":tf.Variable(tf.random_normal((n_hidden3, ))),\n",
    "        \"h4\":tf.Variable(tf.random_normal((n_hidden4, ))),\n",
    "       \"output\":tf.Variable(tf.random_normal((n_classes, )))}"
   ]
  },
  {
   "cell_type": "code",
   "execution_count": 24,
   "metadata": {},
   "outputs": [],
   "source": [
    "def forward_propagation(x, weights, biases):\n",
    "    hidden_layer1_input=tf.add(tf.matmul(x, weights['h1']), biases['h1'])\n",
    "    hidden_layer1_output=tf.nn.selu(hidden_layer1_input)\n",
    "    \n",
    "    hidden_layer2_input=tf.add(tf.matmul(hidden_layer1_output, weights['h2']), biases['h2'])\n",
    "    hidden_layer2_output=tf.nn.tanh(hidden_layer2_input)\n",
    "    \n",
    "    hidden_layer3_input=tf.add(tf.matmul(hidden_layer2_output, weights['h3']), biases['h3'])\n",
    "    hidden_layer3_output=tf.nn.relu(hidden_layer3_input)\n",
    "    \n",
    "    hidden_layer4_input=tf.add(tf.matmul(hidden_layer3_output, weights['h4']), biases['h4'])\n",
    "    hidden_layer4_output=tf.nn.relu(hidden_layer4_input)\n",
    "    \n",
    "    output=tf.add(tf.matmul(hidden_layer4_output, weights['output']), biases['output'])\n",
    "    \n",
    "    return output"
   ]
  },
  {
   "cell_type": "code",
   "execution_count": 25,
   "metadata": {},
   "outputs": [],
   "source": [
    "x=tf.placeholder(\"float\" , shape=(None, n_inputs))\n",
    "y=tf.placeholder(tf.int32 , shape=(None, n_classes))"
   ]
  },
  {
   "cell_type": "code",
   "execution_count": 26,
   "metadata": {},
   "outputs": [],
   "source": [
    "pred_hot_encoded=forward_propagation(x, weights, biases)"
   ]
  },
  {
   "cell_type": "code",
   "execution_count": 27,
   "metadata": {},
   "outputs": [
    {
     "data": {
      "text/plain": [
       "<tf.Tensor 'Mean_1:0' shape=() dtype=float32>"
      ]
     },
     "execution_count": 27,
     "metadata": {},
     "output_type": "execute_result"
    }
   ],
   "source": [
    "cost=tf.reduce_mean(tf.nn.softmax_cross_entropy_with_logits(logits=pred_hot_encoded, labels=y))\n",
    "cost"
   ]
  },
  {
   "cell_type": "code",
   "execution_count": 28,
   "metadata": {},
   "outputs": [],
   "source": [
    "optimizer=tf.train.AdamOptimizer(learning_rate=0.0001)\n",
    "optimize=optimizer.minimize(cost)"
   ]
  },
  {
   "cell_type": "code",
   "execution_count": 29,
   "metadata": {},
   "outputs": [],
   "source": [
    "sess=tf.Session()\n",
    "sess.run(tf.global_variables_initializer())"
   ]
  },
  {
   "cell_type": "code",
   "execution_count": 30,
   "metadata": {
    "scrolled": true
   },
   "outputs": [
    {
     "name": "stdout",
     "output_type": "stream",
     "text": [
      "5953.6196\n",
      "4609.78\n",
      "2947.4731\n",
      "2234.3684\n",
      "1568.9701\n",
      "1223.957\n",
      "1371.735\n",
      "1131.3684\n",
      "841.21063\n",
      "742.31964\n",
      "896.7578\n",
      "1052.8606\n",
      "591.08936\n",
      "734.758\n",
      "696.8566\n",
      "446.80075\n",
      "498.0049\n",
      "498.05212\n",
      "399.5022\n",
      "367.89072\n",
      "268.13278\n",
      "446.18976\n",
      "245.84875\n",
      "310.30075\n",
      "208.80441\n"
     ]
    }
   ],
   "source": [
    "batch_size=500\n",
    "\n",
    "for i in range(25):\n",
    "    number_of_batches=int(mnist.train.num_examples/batch_size)\n",
    "    error=0\n",
    "    for j in range(number_of_batches):\n",
    "        batch_x, batch_y=mnist.train.next_batch(batch_size)\n",
    "        c, _=sess.run([cost, optimize], feed_dict={x:batch_x, y:batch_y})\n",
    "        error+=c\n",
    "    print(c)"
   ]
  },
  {
   "cell_type": "code",
   "execution_count": 31,
   "metadata": {},
   "outputs": [],
   "source": [
    "pred_predicted=tf.argmax(pred_hot_encoded, axis=1)\n",
    "pred_true=tf.argmax(y, axis=1)\n",
    "pred_eval_predicted, pred_eval_true=sess.run([pred_predicted, pred_true], feed_dict={x:mnist.train.images, y:mnist.train.labels})"
   ]
  },
  {
   "cell_type": "code",
   "execution_count": 32,
   "metadata": {},
   "outputs": [
    {
     "name": "stdout",
     "output_type": "stream",
     "text": [
      "score: 94.68\n"
     ]
    }
   ],
   "source": [
    "print(\"score:\", sum(pred_eval_predicted==pred_eval_true)*100/len(pred_eval_predicted))"
   ]
  }
 ],
 "metadata": {
  "kernelspec": {
   "display_name": "Python 3",
   "language": "python",
   "name": "python3"
  },
  "language_info": {
   "codemirror_mode": {
    "name": "ipython",
    "version": 3
   },
   "file_extension": ".py",
   "mimetype": "text/x-python",
   "name": "python",
   "nbconvert_exporter": "python",
   "pygments_lexer": "ipython3",
   "version": "3.7.3"
  }
 },
 "nbformat": 4,
 "nbformat_minor": 2
}
