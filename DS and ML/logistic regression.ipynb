{
 "cells": [
  {
   "cell_type": "code",
   "execution_count": 1,
   "metadata": {},
   "outputs": [],
   "source": [
    "from sklearn.datasets import load_breast_cancer\n",
    "from sklearn import model_selection\n",
    "import numpy as np\n",
    "import math\n",
    "from sklearn import preprocessing\n",
    "data=load_breast_cancer()\n",
    "x_data=data.data\n",
    "y_data=data.target"
   ]
  },
  {
   "cell_type": "code",
   "execution_count": 2,
   "metadata": {},
   "outputs": [],
   "source": [
    "x_train, x_test, y_train, y_test=model_selection.train_test_split(x_data, y_data)"
   ]
  },
  {
   "cell_type": "code",
   "execution_count": 3,
   "metadata": {},
   "outputs": [],
   "source": [
    "def step_gradient(X, Y, learning_rate, m):\n",
    "    m_slope=np.zeros(len(X[0]))\n",
    "    for i in range(len(X)):\n",
    "        x=X[i]\n",
    "        y=Y[i]\n",
    "        for j in range(len(x)):\n",
    "            m_slope+=(-1/len(X))*(y-(1/(1+math.exp(-sum(m*x)))))*x[j]\n",
    "    new_m=m-learning_rate*m_slope\n",
    "    return new_m\n",
    "\n",
    "def cost(x, y, m):\n",
    "    cost=0\n",
    "    for i in range(len(x)):\n",
    "        cost+=math.log(1+(math.exp(sum(m*x[i]))))-y[i]*sum(m*x[i])\n",
    "    print(cost)\n",
    "\n",
    "def gradient_descent(x, y, learning_rate, iterations):\n",
    "    m=np.zeros(len(x[0]))\n",
    "    for i in range(iterations):\n",
    "        m=step_gradient(x, y, learning_rate, m)\n",
    "        print(\"itr= \", i, \"cost=\", end=' ')\n",
    "        cost(x, y, m)\n",
    "    return m\n",
    "\n",
    "def logistic_regression(x, y):\n",
    "    iterations=50\n",
    "    learning_rate=0.1\n",
    "    m=gradient_descent(x, y, learning_rate, iterations)\n",
    "    return m"
   ]
  },
  {
   "cell_type": "code",
   "execution_count": 4,
   "metadata": {
    "scrolled": true
   },
   "outputs": [
    {
     "name": "stdout",
     "output_type": "stream",
     "text": [
      "itr=  0 cost= 274.15320359934486\n",
      "itr=  1 cost= 243.4983577992382\n",
      "itr=  2 cost= 214.48224431874505\n",
      "itr=  3 cost= 187.97363056559894\n",
      "itr=  4 cost= 165.35473598797086\n",
      "itr=  5 cost= 148.55733716546266\n",
      "itr=  6 cost= 139.2016404203273\n",
      "itr=  7 cost= 136.239411398503\n",
      "itr=  8 cost= 135.87889625144246\n",
      "itr=  9 cost= 135.86608307200567\n",
      "itr=  10 cost= 135.86589215257345\n",
      "itr=  11 cost= 135.86588989920574\n",
      "itr=  12 cost= 135.8658898734175\n",
      "itr=  13 cost= 135.86588987312334\n",
      "itr=  14 cost= 135.86588987311993\n",
      "itr=  15 cost= 135.86588987312004\n",
      "itr=  16 cost= 135.86588987312\n",
      "itr=  17 cost= 135.8658898731199\n",
      "itr=  18 cost= 135.8658898731199\n",
      "itr=  19 cost= 135.8658898731199\n",
      "itr=  20 cost= 135.86588987311984\n",
      "itr=  21 cost= 135.86588987311976\n",
      "itr=  22 cost= 135.8658898731198\n",
      "itr=  23 cost= 135.86588987311987\n",
      "itr=  24 cost= 135.86588987311987\n",
      "itr=  25 cost= 135.86588987311987\n",
      "itr=  26 cost= 135.86588987311987\n",
      "itr=  27 cost= 135.86588987311987\n",
      "itr=  28 cost= 135.86588987311987\n",
      "itr=  29 cost= 135.86588987311987\n",
      "itr=  30 cost= 135.86588987311987\n",
      "itr=  31 cost= 135.86588987311987\n",
      "itr=  32 cost= 135.86588987311987\n",
      "itr=  33 cost= 135.86588987311987\n",
      "itr=  34 cost= 135.86588987311987\n",
      "itr=  35 cost= 135.86588987311987\n",
      "itr=  36 cost= 135.86588987311987\n",
      "itr=  37 cost= 135.86588987311987\n",
      "itr=  38 cost= 135.86588987311987\n",
      "itr=  39 cost= 135.86588987311987\n",
      "itr=  40 cost= 135.86588987311987\n",
      "itr=  41 cost= 135.86588987311987\n",
      "itr=  42 cost= 135.86588987311987\n",
      "itr=  43 cost= 135.86588987311987\n",
      "itr=  44 cost= 135.86588987311987\n",
      "itr=  45 cost= 135.86588987311987\n",
      "itr=  46 cost= 135.86588987311987\n",
      "itr=  47 cost= 135.86588987311987\n",
      "itr=  48 cost= 135.86588987311987\n",
      "itr=  49 cost= 135.86588987311987\n"
     ]
    }
   ],
   "source": [
    "scaler=preprocessing.StandardScaler()\n",
    "scaler.fit(x_train)\n",
    "x_train=scaler.transform(x_train)\n",
    "m=logistic_regression(x_train, y_train)"
   ]
  },
  {
   "cell_type": "code",
   "execution_count": 28,
   "metadata": {},
   "outputs": [],
   "source": [
    "testing=x_test\n",
    "testing=scaler.transform(testing)\n",
    "pred=[]\n",
    "for i in testing:\n",
    "    if 1/(1+math.exp(-sum(m*i)))>0.5:\n",
    "        pred.append(1)\n",
    "    else:\n",
    "        pred.append(0)"
   ]
  },
  {
   "cell_type": "code",
   "execution_count": 30,
   "metadata": {},
   "outputs": [
    {
     "name": "stdout",
     "output_type": "stream",
     "text": [
      "score= 0.8951048951048951\n"
     ]
    }
   ],
   "source": [
    "total=0\n",
    "correct=0\n",
    "for i, j in zip(pred, y_test):\n",
    "    total+=1\n",
    "    if i==j:\n",
    "        correct+=1\n",
    "print('score=', correct/total)"
   ]
  }
 ],
 "metadata": {
  "kernelspec": {
   "display_name": "Python 3",
   "language": "python",
   "name": "python3"
  },
  "language_info": {
   "codemirror_mode": {
    "name": "ipython",
    "version": 3
   },
   "file_extension": ".py",
   "mimetype": "text/x-python",
   "name": "python",
   "nbconvert_exporter": "python",
   "pygments_lexer": "ipython3",
   "version": "3.7.3"
  }
 },
 "nbformat": 4,
 "nbformat_minor": 2
}
